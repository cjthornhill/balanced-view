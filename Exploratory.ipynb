{
 "cells": [
  {
   "cell_type": "code",
   "execution_count": 1,
   "metadata": {},
   "outputs": [],
   "source": [
    "%matplotlib inline\n",
    "import numpy as np\n",
    "import pandas as pd\n",
    "import dask.dataframe as dd\n",
    "import datetime as dt\n",
    "import matplotlib.pyplot as plt\n",
    "import seaborn as sns"
   ]
  },
  {
   "cell_type": "code",
   "execution_count": 2,
   "metadata": {},
   "outputs": [],
   "source": [
    "sns.set_style('white')\n",
    "plt.rcParams['figure.figsize'] = 12,8"
   ]
  },
  {
   "cell_type": "code",
   "execution_count": 3,
   "metadata": {},
   "outputs": [],
   "source": [
    "def load_data():\n",
    "    # 3261930 rows\n",
    "    # Using dask for multithread support\n",
    "    df = dd.read_csv(\"data/english.csv\", dtype='object')\n",
    "    df[\"tweet_time\"] = dd.to_datetime(df[\"tweet_time\"], format=\"%Y-%m-%d %H:%M\")\n",
    "    return df"
   ]
  },
  {
   "cell_type": "code",
   "execution_count": 4,
   "metadata": {},
   "outputs": [],
   "source": [
    "df = load_data()"
   ]
  },
  {
   "cell_type": "code",
   "execution_count": 5,
   "metadata": {
    "scrolled": false
   },
   "outputs": [
    {
     "data": {
      "text/plain": [
       "longitude                   0.999961\n",
       "latitude                    0.999961\n",
       "poll_choices                0.999881\n",
       "in_reply_to_tweetid         0.978771\n",
       "in_reply_to_userid          0.968538\n",
       "quoted_tweet_tweetid        0.959257\n",
       "user_profile_url            0.818248\n",
       "retweet_tweetid             0.667797\n",
       "retweet_userid              0.667797\n",
       "user_mentions               0.596244\n",
       "urls                        0.136965\n",
       "user_profile_description    0.109622\n",
       "user_reported_location      0.097539\n",
       "hashtags                    0.089934\n",
       "quote_count                 0.000708\n",
       "reply_count                 0.000708\n",
       "like_count                  0.000708\n",
       "retweet_count               0.000708\n",
       "tweet_client_name           0.000069\n",
       "userid                      0.000000\n",
       "follower_count              0.000000\n",
       "user_display_name           0.000000\n",
       "user_screen_name            0.000000\n",
       "tweet_time                  0.000000\n",
       "following_count             0.000000\n",
       "account_creation_date       0.000000\n",
       "account_language            0.000000\n",
       "tweet_language              0.000000\n",
       "tweet_text                  0.000000\n",
       "is_retweet                  0.000000\n",
       "tweetid                     0.000000\n",
       "dtype: float64"
      ]
     },
     "execution_count": 5,
     "metadata": {},
     "output_type": "execute_result"
    }
   ],
   "source": [
    "# Just check what is actually usable here and what we need to drop\n",
    "(df.isnull().sum(axis=0) / len(df)).compute().sort_values(ascending=False)"
   ]
  },
  {
   "cell_type": "code",
   "execution_count": 6,
   "metadata": {},
   "outputs": [
    {
     "data": {
      "image/png": "[encoded data removed]",
      "text/plain": [
       "<Figure size 864x576 with 1 Axes>"
      ]
     },
     "metadata": {},
     "output_type": "display_data"
    }
   ],
   "source": [
    "# Resample by daily usage and plot the histogram\n",
    "daily_usage = df[['tweet_time', 'userid']].set_index('tweet_time').resample('D').count().compute()\n",
    "plt.bar(daily_usage.index, daily_usage.userid);"
   ]
  }
 ],
 "metadata": {
  "hide_input": false,
  "kernelspec": {
   "display_name": "Python 3",
   "language": "python",
   "name": "python3"
  },
  "language_info": {
   "codemirror_mode": {
    "name": "ipython",
    "version": 3
   },
   "file_extension": ".py",
   "mimetype": "text/x-python",
   "name": "python",
   "nbconvert_exporter": "python",
   "pygments_lexer": "ipython3",
   "version": "3.6.5"
  }
 },
 "nbformat": 4,
 "nbformat_minor": 2
}
